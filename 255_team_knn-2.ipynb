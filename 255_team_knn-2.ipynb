{
  "nbformat": 4,
  "nbformat_minor": 0,
  "metadata": {
    "colab": {
      "name": "255-team-knn.ipynb",
      "provenance": []
    },
    "kernelspec": {
      "name": "python3",
      "display_name": "Python 3"
    },
    "language_info": {
      "name": "python"
    }
  },
  "cells": [
    {
      "cell_type": "code",
      "metadata": {
        "id": "BTbvyTKe4zFH"
      },
      "source": [
        "import os"
      ],
      "execution_count": null,
      "outputs": []
    },
    {
      "cell_type": "code",
      "metadata": {
        "colab": {
          "base_uri": "https://localhost:8080/"
        },
        "id": "TyFneOY444jP",
        "outputId": "2eec6680-e3b4-4db2-e120-ccf500c808ae"
      },
      "source": [
        "!pip install findspark\n",
        "!pip install pyspark\n",
        "import findspark\n",
        "from pyspark.sql import SparkSession"
      ],
      "execution_count": null,
      "outputs": [
        {
          "output_type": "stream",
          "text": [
            "Requirement already satisfied: findspark in /usr/local/lib/python3.7/dist-packages (1.4.2)\n",
            "Requirement already satisfied: pyspark in /usr/local/lib/python3.7/dist-packages (3.1.1)\n",
            "Requirement already satisfied: py4j==0.10.9 in /usr/local/lib/python3.7/dist-packages (from pyspark) (0.10.9)\n"
          ],
          "name": "stdout"
        }
      ]
    },
    {
      "cell_type": "code",
      "metadata": {
        "colab": {
          "base_uri": "https://localhost:8080/"
        },
        "id": "HQd7giz849zR",
        "outputId": "61f5ec1f-957d-4e12-e197-485db0b3a53d"
      },
      "source": [
        "!pip install pyspark\n",
        "from pyspark import SparkContext\n",
        "from pyspark.sql import SparkSession\n",
        "from pyspark.sql import DataFrame\n",
        "import csv\n",
        "from pyspark.sql.types import *\n",
        "from pyspark.sql.functions import format_number, when\n",
        "import pyspark.sql.functions as F"
      ],
      "execution_count": null,
      "outputs": [
        {
          "output_type": "stream",
          "text": [
            "Requirement already satisfied: pyspark in /usr/local/lib/python3.7/dist-packages (3.1.1)\n",
            "Requirement already satisfied: py4j==0.10.9 in /usr/local/lib/python3.7/dist-packages (from pyspark) (0.10.9)\n"
          ],
          "name": "stdout"
        }
      ]
    },
    {
      "cell_type": "code",
      "metadata": {
        "id": "Xom9KXGV5yMw"
      },
      "source": [
        "import pandas as pd\n",
        "import matplotlib.pyplot as plt\n",
        "import seaborn as sns\n",
        "import numpy as np\n",
        "\n",
        "from sklearn.model_selection import train_test_split, cross_val_score\n",
        "from sklearn.neighbors import KNeighborsClassifier\n",
        "from sklearn import metrics\n",
        "from sklearn.preprocessing import StandardScaler\n",
        "from sklearn.preprocessing import LabelEncoder"
      ],
      "execution_count": null,
      "outputs": []
    },
    {
      "cell_type": "code",
      "metadata": {
        "colab": {
          "base_uri": "https://localhost:8080/",
          "height": 37
        },
        "id": "6qFmimCP53X9",
        "outputId": "415bb642-4f85-4cd9-f33d-7bbb26d3ca13"
      },
      "source": [
        "import tensorflow as tf\n",
        "tf.test.gpu_device_name()"
      ],
      "execution_count": null,
      "outputs": [
        {
          "output_type": "execute_result",
          "data": {
            "application/vnd.google.colaboratory.intrinsic+json": {
              "type": "string"
            },
            "text/plain": [
              "''"
            ]
          },
          "metadata": {
            "tags": []
          },
          "execution_count": 7
        }
      ]
    },
    {
      "cell_type": "code",
      "metadata": {
        "id": "7yuBmItv56Bc",
        "colab": {
          "base_uri": "https://localhost:8080/"
        },
        "outputId": "c1ffd406-dc43-41a9-8095-1b069be298b4"
      },
      "source": [
        "crime_data = pd.read_csv('/content/Crimes_-_2001_to_Present.csv')"
      ],
      "execution_count": null,
      "outputs": [
        {
          "output_type": "stream",
          "text": [
            "/usr/local/lib/python3.7/dist-packages/IPython/core/interactiveshell.py:2718: DtypeWarning: Columns (8,9) have mixed types.Specify dtype option on import or set low_memory=False.\n",
            "  interactivity=interactivity, compiler=compiler, result=result)\n"
          ],
          "name": "stderr"
        }
      ]
    },
    {
      "cell_type": "code",
      "metadata": {
        "colab": {
          "base_uri": "https://localhost:8080/",
          "height": 411
        },
        "id": "QeYmcwG-6lDq",
        "outputId": "a38b0945-bc8b-460f-b284-f7d5cb2fa9e1"
      },
      "source": [
        "crime_data.head()"
      ],
      "execution_count": null,
      "outputs": [
        {
          "output_type": "execute_result",
          "data": {
            "text/html": [
              "<div>\n",
              "<style scoped>\n",
              "    .dataframe tbody tr th:only-of-type {\n",
              "        vertical-align: middle;\n",
              "    }\n",
              "\n",
              "    .dataframe tbody tr th {\n",
              "        vertical-align: top;\n",
              "    }\n",
              "\n",
              "    .dataframe thead th {\n",
              "        text-align: right;\n",
              "    }\n",
              "</style>\n",
              "<table border=\"1\" class=\"dataframe\">\n",
              "  <thead>\n",
              "    <tr style=\"text-align: right;\">\n",
              "      <th></th>\n",
              "      <th>ID</th>\n",
              "      <th>Case Number</th>\n",
              "      <th>Date</th>\n",
              "      <th>Block</th>\n",
              "      <th>IUCR</th>\n",
              "      <th>Primary Type</th>\n",
              "      <th>Description</th>\n",
              "      <th>Location Description</th>\n",
              "      <th>Arrest</th>\n",
              "      <th>Domestic</th>\n",
              "      <th>Beat</th>\n",
              "      <th>District</th>\n",
              "      <th>Ward</th>\n",
              "      <th>Community Area</th>\n",
              "      <th>FBI Code</th>\n",
              "      <th>X Coordinate</th>\n",
              "      <th>Y Coordinate</th>\n",
              "      <th>Year</th>\n",
              "      <th>Updated On</th>\n",
              "      <th>Latitude</th>\n",
              "      <th>Longitude</th>\n",
              "      <th>Location</th>\n",
              "    </tr>\n",
              "  </thead>\n",
              "  <tbody>\n",
              "    <tr>\n",
              "      <th>0</th>\n",
              "      <td>10224738</td>\n",
              "      <td>HY411648</td>\n",
              "      <td>09/05/2015 01:30:00 PM</td>\n",
              "      <td>043XX S WOOD ST</td>\n",
              "      <td>0486</td>\n",
              "      <td>BATTERY</td>\n",
              "      <td>DOMESTIC BATTERY SIMPLE</td>\n",
              "      <td>RESIDENCE</td>\n",
              "      <td>False</td>\n",
              "      <td>True</td>\n",
              "      <td>924</td>\n",
              "      <td>9</td>\n",
              "      <td>12.0</td>\n",
              "      <td>61.0</td>\n",
              "      <td>08B</td>\n",
              "      <td>1165074.0</td>\n",
              "      <td>1875917.0</td>\n",
              "      <td>2015.0</td>\n",
              "      <td>02/10/2018 03:50:01 PM</td>\n",
              "      <td>41.815117</td>\n",
              "      <td>-87.670000</td>\n",
              "      <td>(41.815117282, -87.669999562)</td>\n",
              "    </tr>\n",
              "    <tr>\n",
              "      <th>1</th>\n",
              "      <td>10224739</td>\n",
              "      <td>HY411615</td>\n",
              "      <td>09/04/2015 11:30:00 AM</td>\n",
              "      <td>008XX N CENTRAL AVE</td>\n",
              "      <td>0870</td>\n",
              "      <td>THEFT</td>\n",
              "      <td>POCKET-PICKING</td>\n",
              "      <td>CTA BUS</td>\n",
              "      <td>False</td>\n",
              "      <td>False</td>\n",
              "      <td>1511</td>\n",
              "      <td>15</td>\n",
              "      <td>29.0</td>\n",
              "      <td>25.0</td>\n",
              "      <td>06</td>\n",
              "      <td>1138875.0</td>\n",
              "      <td>1904869.0</td>\n",
              "      <td>2015.0</td>\n",
              "      <td>02/10/2018 03:50:01 PM</td>\n",
              "      <td>41.895080</td>\n",
              "      <td>-87.765400</td>\n",
              "      <td>(41.895080471, -87.765400451)</td>\n",
              "    </tr>\n",
              "    <tr>\n",
              "      <th>2</th>\n",
              "      <td>11646166</td>\n",
              "      <td>JC213529</td>\n",
              "      <td>09/01/2018 12:01:00 AM</td>\n",
              "      <td>082XX S INGLESIDE AVE</td>\n",
              "      <td>0810</td>\n",
              "      <td>THEFT</td>\n",
              "      <td>OVER $500</td>\n",
              "      <td>RESIDENCE</td>\n",
              "      <td>False</td>\n",
              "      <td>True</td>\n",
              "      <td>631</td>\n",
              "      <td>6</td>\n",
              "      <td>8.0</td>\n",
              "      <td>44.0</td>\n",
              "      <td>06</td>\n",
              "      <td>NaN</td>\n",
              "      <td>NaN</td>\n",
              "      <td>2018.0</td>\n",
              "      <td>04/06/2019 04:04:43 PM</td>\n",
              "      <td>NaN</td>\n",
              "      <td>NaN</td>\n",
              "      <td>NaN</td>\n",
              "    </tr>\n",
              "    <tr>\n",
              "      <th>3</th>\n",
              "      <td>10224740</td>\n",
              "      <td>HY411595</td>\n",
              "      <td>09/05/2015 12:45:00 PM</td>\n",
              "      <td>035XX W BARRY AVE</td>\n",
              "      <td>2023</td>\n",
              "      <td>NARCOTICS</td>\n",
              "      <td>POSS: HEROIN(BRN/TAN)</td>\n",
              "      <td>SIDEWALK</td>\n",
              "      <td>True</td>\n",
              "      <td>False</td>\n",
              "      <td>1412</td>\n",
              "      <td>14</td>\n",
              "      <td>35.0</td>\n",
              "      <td>21.0</td>\n",
              "      <td>18</td>\n",
              "      <td>1152037.0</td>\n",
              "      <td>1920384.0</td>\n",
              "      <td>2015.0</td>\n",
              "      <td>02/10/2018 03:50:01 PM</td>\n",
              "      <td>41.937406</td>\n",
              "      <td>-87.716650</td>\n",
              "      <td>(41.937405765, -87.716649687)</td>\n",
              "    </tr>\n",
              "    <tr>\n",
              "      <th>4</th>\n",
              "      <td>10224741</td>\n",
              "      <td>HY411610</td>\n",
              "      <td>09/05/2015 01:00:00 PM</td>\n",
              "      <td>0000X N LARAMIE AVE</td>\n",
              "      <td>0560</td>\n",
              "      <td>ASSAULT</td>\n",
              "      <td>SIMPLE</td>\n",
              "      <td>APARTMENT</td>\n",
              "      <td>False</td>\n",
              "      <td>True</td>\n",
              "      <td>1522</td>\n",
              "      <td>15</td>\n",
              "      <td>28.0</td>\n",
              "      <td>25.0</td>\n",
              "      <td>08A</td>\n",
              "      <td>1141706.0</td>\n",
              "      <td>1900086.0</td>\n",
              "      <td>2015.0</td>\n",
              "      <td>02/10/2018 03:50:01 PM</td>\n",
              "      <td>41.881903</td>\n",
              "      <td>-87.755121</td>\n",
              "      <td>(41.881903443, -87.755121152)</td>\n",
              "    </tr>\n",
              "  </tbody>\n",
              "</table>\n",
              "</div>"
            ],
            "text/plain": [
              "         ID Case Number  ...  Longitude                       Location\n",
              "0  10224738    HY411648  ... -87.670000  (41.815117282, -87.669999562)\n",
              "1  10224739    HY411615  ... -87.765400  (41.895080471, -87.765400451)\n",
              "2  11646166    JC213529  ...        NaN                            NaN\n",
              "3  10224740    HY411595  ... -87.716650  (41.937405765, -87.716649687)\n",
              "4  10224741    HY411610  ... -87.755121  (41.881903443, -87.755121152)\n",
              "\n",
              "[5 rows x 22 columns]"
            ]
          },
          "metadata": {
            "tags": []
          },
          "execution_count": 8
        }
      ]
    },
    {
      "cell_type": "code",
      "metadata": {
        "colab": {
          "base_uri": "https://localhost:8080/"
        },
        "id": "roskNfK36sOC",
        "outputId": "35be6795-981a-41c5-bc48-0a5aa7a0cabd"
      },
      "source": [
        "crime_data.columns"
      ],
      "execution_count": null,
      "outputs": [
        {
          "output_type": "execute_result",
          "data": {
            "text/plain": [
              "Index(['ID', 'Case Number', 'Date', 'Block', 'IUCR', 'Primary Type',\n",
              "       'Description', 'Location Description', 'Arrest', 'Domestic', 'Beat',\n",
              "       'District', 'Ward', 'Community Area', 'FBI Code', 'X Coordinate',\n",
              "       'Y Coordinate', 'Year', 'Updated On', 'Latitude', 'Longitude',\n",
              "       'Location'],\n",
              "      dtype='object')"
            ]
          },
          "metadata": {
            "tags": []
          },
          "execution_count": 9
        }
      ]
    },
    {
      "cell_type": "code",
      "metadata": {
        "id": "2VaJfeuh66U6"
      },
      "source": [
        "primaryVisualizeDF = crime_data.groupby('Primary Type').size()"
      ],
      "execution_count": null,
      "outputs": []
    },
    {
      "cell_type": "code",
      "metadata": {
        "colab": {
          "base_uri": "https://localhost:8080/",
          "height": 618
        },
        "id": "mxagdCqF7zec",
        "outputId": "b72647ab-9bb6-42ab-c206-c31b4d382a1b"
      },
      "source": [
        "primaryVisualizeDF.plot.pie(figsize = (15,15))\n",
        "plt.xlabel('Primary Crime Type', fontsize=10, color = 'red')\n",
        "plt.legend()"
      ],
      "execution_count": null,
      "outputs": [
        {
          "output_type": "execute_result",
          "data": {
            "text/plain": [
              "<matplotlib.legend.Legend at 0x7f596eb7b3d0>"
            ]
          },
          "metadata": {
            "tags": []
          },
          "execution_count": 11
        },
        {
          "output_type": "display_data",
          "data": {
            "image/png": "[encoded data removed]",
            "text/plain": [
              "<Figure size 1080x1080 with 1 Axes>"
            ]
          },
          "metadata": {
            "tags": []
          }
        }
      ]
    },
    {
      "cell_type": "code",
      "metadata": {
        "id": "9-nBYOCK73Pg"
      },
      "source": [
        "data = crime_data.replace(to_replace='None', value=np.nan).dropna()"
      ],
      "execution_count": null,
      "outputs": []
    },
    {
      "cell_type": "code",
      "metadata": {
        "id": "ot_yeQTw7-GW"
      },
      "source": [
        "# create an instance of label encoder for categorical variables\n",
        "labelEncoder = LabelEncoder()"
      ],
      "execution_count": null,
      "outputs": []
    },
    {
      "cell_type": "code",
      "metadata": {
        "colab": {
          "base_uri": "https://localhost:8080/"
        },
        "id": "jRn1H6eT8B2S",
        "outputId": "e4a592da-58ce-470e-cf8f-7b99ec1bfd1f"
      },
      "source": [
        "primaryEncoded = labelEncoder.fit_transform(data['Primary Type'])\n",
        "primaryEncoded"
      ],
      "execution_count": null,
      "outputs": [
        {
          "output_type": "execute_result",
          "data": {
            "text/plain": [
              "array([ 2, 33, 18, ..., 33,  3,  2])"
            ]
          },
          "metadata": {
            "tags": []
          },
          "execution_count": 14
        }
      ]
    },
    {
      "cell_type": "code",
      "metadata": {
        "id": "Rf3KemfH8Dx_"
      },
      "source": [
        "data['Primary Type'] = primaryEncoded"
      ],
      "execution_count": null,
      "outputs": []
    },
    {
      "cell_type": "code",
      "metadata": {
        "id": "x3dvxGlg8Gde"
      },
      "source": [
        "# create an instance of label encoder for categorical variables\n",
        "labelEncoder2 = LabelEncoder()"
      ],
      "execution_count": null,
      "outputs": []
    },
    {
      "cell_type": "code",
      "metadata": {
        "colab": {
          "base_uri": "https://localhost:8080/"
        },
        "id": "CIK-D5ZD8Icw",
        "outputId": "2a2bdace-ae68-476e-e48f-e8ba1f11d1aa"
      },
      "source": [
        "locDiscEncoded = labelEncoder2.fit_transform(data['Location Description'])\n",
        "locDiscEncoded"
      ],
      "execution_count": null,
      "outputs": [
        {
          "output_type": "execute_result",
          "data": {
            "text/plain": [
              "array([155,  67, 178, ..., 155,  50, 178])"
            ]
          },
          "metadata": {
            "tags": []
          },
          "execution_count": 17
        }
      ]
    },
    {
      "cell_type": "code",
      "metadata": {
        "id": "Lad51Auk8LpI"
      },
      "source": [
        "data['Location Description'] = locDiscEncoded"
      ],
      "execution_count": null,
      "outputs": []
    },
    {
      "cell_type": "code",
      "metadata": {
        "id": "Rsnqh6wa8Nps"
      },
      "source": [
        "# create an instance of label encoder for categorical variables\n",
        "labelEncoder3 = LabelEncoder()"
      ],
      "execution_count": null,
      "outputs": []
    },
    {
      "cell_type": "code",
      "metadata": {
        "colab": {
          "base_uri": "https://localhost:8080/"
        },
        "id": "NL7Kg1cR8Pks",
        "outputId": "f4780252-4a49-4ab1-86e2-e54ba824e1a0"
      },
      "source": [
        "blockEncoded = labelEncoder2.fit_transform(data['Location Description'])\n",
        "blockEncoded"
      ],
      "execution_count": null,
      "outputs": [
        {
          "output_type": "execute_result",
          "data": {
            "text/plain": [
              "array([155,  67, 178, ..., 155,  50, 178])"
            ]
          },
          "metadata": {
            "tags": []
          },
          "execution_count": 20
        }
      ]
    },
    {
      "cell_type": "code",
      "metadata": {
        "id": "DFEo4CLI8Rto"
      },
      "source": [
        "data['Block'] = locDiscEncoded"
      ],
      "execution_count": null,
      "outputs": []
    },
    {
      "cell_type": "code",
      "metadata": {
        "id": "2Iq9YxCj8ToB"
      },
      "source": [
        "from sklearn.decomposition import PCA #use PCA to combine features"
      ],
      "execution_count": null,
      "outputs": []
    },
    {
      "cell_type": "code",
      "metadata": {
        "id": "TDlxKT_C8bM2"
      },
      "source": [
        "location = data[['Latitude','Longitude']]\n",
        "pca = PCA(n_components=1,random_state=123)"
      ],
      "execution_count": null,
      "outputs": []
    },
    {
      "cell_type": "code",
      "metadata": {
        "id": "0lpM3h8n8daa"
      },
      "source": [
        "loc = pca.fit_transform(location)"
      ],
      "execution_count": null,
      "outputs": []
    },
    {
      "cell_type": "code",
      "metadata": {
        "id": "yo8Jeqg08fGn"
      },
      "source": [
        "data['Location'] = loc"
      ],
      "execution_count": null,
      "outputs": []
    },
    {
      "cell_type": "code",
      "metadata": {
        "colab": {
          "base_uri": "https://localhost:8080/",
          "height": 411
        },
        "id": "AAr_9mEs8g5I",
        "outputId": "49b49e1e-b82b-4ebe-98e9-1306beca00cf"
      },
      "source": [
        "data.head(5)\n"
      ],
      "execution_count": null,
      "outputs": [
        {
          "output_type": "execute_result",
          "data": {
            "text/html": [
              "<div>\n",
              "<style scoped>\n",
              "    .dataframe tbody tr th:only-of-type {\n",
              "        vertical-align: middle;\n",
              "    }\n",
              "\n",
              "    .dataframe tbody tr th {\n",
              "        vertical-align: top;\n",
              "    }\n",
              "\n",
              "    .dataframe thead th {\n",
              "        text-align: right;\n",
              "    }\n",
              "</style>\n",
              "<table border=\"1\" class=\"dataframe\">\n",
              "  <thead>\n",
              "    <tr style=\"text-align: right;\">\n",
              "      <th></th>\n",
              "      <th>ID</th>\n",
              "      <th>Case Number</th>\n",
              "      <th>Date</th>\n",
              "      <th>Block</th>\n",
              "      <th>IUCR</th>\n",
              "      <th>Primary Type</th>\n",
              "      <th>Description</th>\n",
              "      <th>Location Description</th>\n",
              "      <th>Arrest</th>\n",
              "      <th>Domestic</th>\n",
              "      <th>Beat</th>\n",
              "      <th>District</th>\n",
              "      <th>Ward</th>\n",
              "      <th>Community Area</th>\n",
              "      <th>FBI Code</th>\n",
              "      <th>X Coordinate</th>\n",
              "      <th>Y Coordinate</th>\n",
              "      <th>Year</th>\n",
              "      <th>Updated On</th>\n",
              "      <th>Latitude</th>\n",
              "      <th>Longitude</th>\n",
              "      <th>Location</th>\n",
              "    </tr>\n",
              "  </thead>\n",
              "  <tbody>\n",
              "    <tr>\n",
              "      <th>0</th>\n",
              "      <td>10224738</td>\n",
              "      <td>HY411648</td>\n",
              "      <td>09/05/2015 01:30:00 PM</td>\n",
              "      <td>155</td>\n",
              "      <td>0486</td>\n",
              "      <td>2</td>\n",
              "      <td>DOMESTIC BATTERY SIMPLE</td>\n",
              "      <td>155</td>\n",
              "      <td>False</td>\n",
              "      <td>True</td>\n",
              "      <td>924.0</td>\n",
              "      <td>9.0</td>\n",
              "      <td>12.0</td>\n",
              "      <td>61.0</td>\n",
              "      <td>08B</td>\n",
              "      <td>1165074.0</td>\n",
              "      <td>1875917.0</td>\n",
              "      <td>2015.0</td>\n",
              "      <td>02/10/2018 03:50:01 PM</td>\n",
              "      <td>41.815117</td>\n",
              "      <td>-87.670000</td>\n",
              "      <td>0.024646</td>\n",
              "    </tr>\n",
              "    <tr>\n",
              "      <th>1</th>\n",
              "      <td>10224739</td>\n",
              "      <td>HY411615</td>\n",
              "      <td>09/04/2015 11:30:00 AM</td>\n",
              "      <td>67</td>\n",
              "      <td>0870</td>\n",
              "      <td>33</td>\n",
              "      <td>POCKET-PICKING</td>\n",
              "      <td>67</td>\n",
              "      <td>False</td>\n",
              "      <td>False</td>\n",
              "      <td>1511.0</td>\n",
              "      <td>15.0</td>\n",
              "      <td>29.0</td>\n",
              "      <td>25.0</td>\n",
              "      <td>06</td>\n",
              "      <td>1138875.0</td>\n",
              "      <td>1904869.0</td>\n",
              "      <td>2015.0</td>\n",
              "      <td>02/10/2018 03:50:01 PM</td>\n",
              "      <td>41.895080</td>\n",
              "      <td>-87.765400</td>\n",
              "      <td>-0.089520</td>\n",
              "    </tr>\n",
              "    <tr>\n",
              "      <th>3</th>\n",
              "      <td>10224740</td>\n",
              "      <td>HY411595</td>\n",
              "      <td>09/05/2015 12:45:00 PM</td>\n",
              "      <td>178</td>\n",
              "      <td>2023</td>\n",
              "      <td>18</td>\n",
              "      <td>POSS: HEROIN(BRN/TAN)</td>\n",
              "      <td>178</td>\n",
              "      <td>True</td>\n",
              "      <td>False</td>\n",
              "      <td>1412.0</td>\n",
              "      <td>14.0</td>\n",
              "      <td>35.0</td>\n",
              "      <td>21.0</td>\n",
              "      <td>18</td>\n",
              "      <td>1152037.0</td>\n",
              "      <td>1920384.0</td>\n",
              "      <td>2015.0</td>\n",
              "      <td>02/10/2018 03:50:01 PM</td>\n",
              "      <td>41.937406</td>\n",
              "      <td>-87.716650</td>\n",
              "      <td>-0.105600</td>\n",
              "    </tr>\n",
              "    <tr>\n",
              "      <th>4</th>\n",
              "      <td>10224741</td>\n",
              "      <td>HY411610</td>\n",
              "      <td>09/05/2015 01:00:00 PM</td>\n",
              "      <td>17</td>\n",
              "      <td>0560</td>\n",
              "      <td>1</td>\n",
              "      <td>SIMPLE</td>\n",
              "      <td>17</td>\n",
              "      <td>False</td>\n",
              "      <td>True</td>\n",
              "      <td>1522.0</td>\n",
              "      <td>15.0</td>\n",
              "      <td>28.0</td>\n",
              "      <td>25.0</td>\n",
              "      <td>08A</td>\n",
              "      <td>1141706.0</td>\n",
              "      <td>1900086.0</td>\n",
              "      <td>2015.0</td>\n",
              "      <td>02/10/2018 03:50:01 PM</td>\n",
              "      <td>41.881903</td>\n",
              "      <td>-87.755121</td>\n",
              "      <td>-0.073138</td>\n",
              "    </tr>\n",
              "    <tr>\n",
              "      <th>5</th>\n",
              "      <td>10224742</td>\n",
              "      <td>HY411435</td>\n",
              "      <td>09/05/2015 10:55:00 AM</td>\n",
              "      <td>155</td>\n",
              "      <td>0610</td>\n",
              "      <td>3</td>\n",
              "      <td>FORCIBLE ENTRY</td>\n",
              "      <td>155</td>\n",
              "      <td>False</td>\n",
              "      <td>False</td>\n",
              "      <td>614.0</td>\n",
              "      <td>6.0</td>\n",
              "      <td>21.0</td>\n",
              "      <td>71.0</td>\n",
              "      <td>05</td>\n",
              "      <td>1168430.0</td>\n",
              "      <td>1850165.0</td>\n",
              "      <td>2015.0</td>\n",
              "      <td>02/10/2018 03:50:01 PM</td>\n",
              "      <td>41.744379</td>\n",
              "      <td>-87.658431</td>\n",
              "      <td>0.093098</td>\n",
              "    </tr>\n",
              "  </tbody>\n",
              "</table>\n",
              "</div>"
            ],
            "text/plain": [
              "         ID Case Number                    Date  ...   Latitude  Longitude  Location\n",
              "0  10224738    HY411648  09/05/2015 01:30:00 PM  ...  41.815117 -87.670000  0.024646\n",
              "1  10224739    HY411615  09/04/2015 11:30:00 AM  ...  41.895080 -87.765400 -0.089520\n",
              "3  10224740    HY411595  09/05/2015 12:45:00 PM  ...  41.937406 -87.716650 -0.105600\n",
              "4  10224741    HY411610  09/05/2015 01:00:00 PM  ...  41.881903 -87.755121 -0.073138\n",
              "5  10224742    HY411435  09/05/2015 10:55:00 AM  ...  41.744379 -87.658431  0.093098\n",
              "\n",
              "[5 rows x 22 columns]"
            ]
          },
          "metadata": {
            "tags": []
          },
          "execution_count": 26
        }
      ]
    },
    {
      "cell_type": "code",
      "metadata": {
        "id": "PQULxNkw8jPy"
      },
      "source": [
        "#taking a fraction of data\n",
        "data_sample = data.sample(frac=0.1, random_state=123)"
      ],
      "execution_count": null,
      "outputs": []
    },
    {
      "cell_type": "code",
      "metadata": {
        "id": "szRSJNpx8neS"
      },
      "source": [
        "from sklearn.ensemble import ExtraTreesClassifier\n",
        "import matplotlib.pyplot as plt\n",
        "model = ExtraTreesClassifier()"
      ],
      "execution_count": null,
      "outputs": []
    },
    {
      "cell_type": "code",
      "metadata": {
        "colab": {
          "base_uri": "https://localhost:8080/",
          "height": 605
        },
        "id": "2kGdCe9X8wpw",
        "outputId": "5e55bb8c-f271-49f4-dd58-8acded2ee93a"
      },
      "source": [
        "corelation = data.corr()\n",
        "corelation"
      ],
      "execution_count": null,
      "outputs": [
        {
          "output_type": "execute_result",
          "data": {
            "text/html": [
              "<div>\n",
              "<style scoped>\n",
              "    .dataframe tbody tr th:only-of-type {\n",
              "        vertical-align: middle;\n",
              "    }\n",
              "\n",
              "    .dataframe tbody tr th {\n",
              "        vertical-align: top;\n",
              "    }\n",
              "\n",
              "    .dataframe thead th {\n",
              "        text-align: right;\n",
              "    }\n",
              "</style>\n",
              "<table border=\"1\" class=\"dataframe\">\n",
              "  <thead>\n",
              "    <tr style=\"text-align: right;\">\n",
              "      <th></th>\n",
              "      <th>ID</th>\n",
              "      <th>Block</th>\n",
              "      <th>Primary Type</th>\n",
              "      <th>Location Description</th>\n",
              "      <th>Beat</th>\n",
              "      <th>District</th>\n",
              "      <th>Ward</th>\n",
              "      <th>Community Area</th>\n",
              "      <th>X Coordinate</th>\n",
              "      <th>Y Coordinate</th>\n",
              "      <th>Year</th>\n",
              "      <th>Latitude</th>\n",
              "      <th>Longitude</th>\n",
              "      <th>Location</th>\n",
              "    </tr>\n",
              "  </thead>\n",
              "  <tbody>\n",
              "    <tr>\n",
              "      <th>ID</th>\n",
              "      <td>1.000000</td>\n",
              "      <td>-0.046185</td>\n",
              "      <td>0.011921</td>\n",
              "      <td>-0.046185</td>\n",
              "      <td>-0.034640</td>\n",
              "      <td>-0.005252</td>\n",
              "      <td>0.022068</td>\n",
              "      <td>-0.011184</td>\n",
              "      <td>0.004910</td>\n",
              "      <td>0.004812</td>\n",
              "      <td>0.988060</td>\n",
              "      <td>0.004779</td>\n",
              "      <td>0.005042</td>\n",
              "      <td>-0.002521</td>\n",
              "    </tr>\n",
              "    <tr>\n",
              "      <th>Block</th>\n",
              "      <td>-0.046185</td>\n",
              "      <td>1.000000</td>\n",
              "      <td>0.105635</td>\n",
              "      <td>1.000000</td>\n",
              "      <td>0.018971</td>\n",
              "      <td>0.025729</td>\n",
              "      <td>0.003972</td>\n",
              "      <td>0.019284</td>\n",
              "      <td>-0.029291</td>\n",
              "      <td>-0.036802</td>\n",
              "      <td>-0.047954</td>\n",
              "      <td>-0.036583</td>\n",
              "      <td>-0.030100</td>\n",
              "      <td>0.021692</td>\n",
              "    </tr>\n",
              "    <tr>\n",
              "      <th>Primary Type</th>\n",
              "      <td>0.011921</td>\n",
              "      <td>0.105635</td>\n",
              "      <td>1.000000</td>\n",
              "      <td>0.105635</td>\n",
              "      <td>0.042478</td>\n",
              "      <td>0.037542</td>\n",
              "      <td>0.062544</td>\n",
              "      <td>-0.077026</td>\n",
              "      <td>-0.005956</td>\n",
              "      <td>0.082120</td>\n",
              "      <td>0.009154</td>\n",
              "      <td>0.081956</td>\n",
              "      <td>-0.004707</td>\n",
              "      <td>-0.068900</td>\n",
              "    </tr>\n",
              "    <tr>\n",
              "      <th>Location Description</th>\n",
              "      <td>-0.046185</td>\n",
              "      <td>1.000000</td>\n",
              "      <td>0.105635</td>\n",
              "      <td>1.000000</td>\n",
              "      <td>0.018971</td>\n",
              "      <td>0.025729</td>\n",
              "      <td>0.003972</td>\n",
              "      <td>0.019284</td>\n",
              "      <td>-0.029291</td>\n",
              "      <td>-0.036802</td>\n",
              "      <td>-0.047954</td>\n",
              "      <td>-0.036583</td>\n",
              "      <td>-0.030100</td>\n",
              "      <td>0.021692</td>\n",
              "    </tr>\n",
              "    <tr>\n",
              "      <th>Beat</th>\n",
              "      <td>-0.034640</td>\n",
              "      <td>0.018971</td>\n",
              "      <td>0.042478</td>\n",
              "      <td>0.018971</td>\n",
              "      <td>1.000000</td>\n",
              "      <td>0.936933</td>\n",
              "      <td>0.631168</td>\n",
              "      <td>-0.502751</td>\n",
              "      <td>-0.495750</td>\n",
              "      <td>0.629685</td>\n",
              "      <td>-0.036903</td>\n",
              "      <td>0.630190</td>\n",
              "      <td>-0.490946</td>\n",
              "      <td>-0.657795</td>\n",
              "    </tr>\n",
              "    <tr>\n",
              "      <th>District</th>\n",
              "      <td>-0.005252</td>\n",
              "      <td>0.025729</td>\n",
              "      <td>0.037542</td>\n",
              "      <td>0.025729</td>\n",
              "      <td>0.936933</td>\n",
              "      <td>1.000000</td>\n",
              "      <td>0.686612</td>\n",
              "      <td>-0.495291</td>\n",
              "      <td>-0.554849</td>\n",
              "      <td>0.638264</td>\n",
              "      <td>-0.006592</td>\n",
              "      <td>0.638985</td>\n",
              "      <td>-0.550505</td>\n",
              "      <td>-0.681810</td>\n",
              "    </tr>\n",
              "    <tr>\n",
              "      <th>Ward</th>\n",
              "      <td>0.022068</td>\n",
              "      <td>0.003972</td>\n",
              "      <td>0.062544</td>\n",
              "      <td>0.003972</td>\n",
              "      <td>0.631168</td>\n",
              "      <td>0.686612</td>\n",
              "      <td>1.000000</td>\n",
              "      <td>-0.526934</td>\n",
              "      <td>-0.456480</td>\n",
              "      <td>0.642958</td>\n",
              "      <td>0.021477</td>\n",
              "      <td>0.643268</td>\n",
              "      <td>-0.451108</td>\n",
              "      <td>-0.657366</td>\n",
              "    </tr>\n",
              "    <tr>\n",
              "      <th>Community Area</th>\n",
              "      <td>-0.011184</td>\n",
              "      <td>0.019284</td>\n",
              "      <td>-0.077026</td>\n",
              "      <td>0.019284</td>\n",
              "      <td>-0.502751</td>\n",
              "      <td>-0.495291</td>\n",
              "      <td>-0.526934</td>\n",
              "      <td>1.000000</td>\n",
              "      <td>0.262175</td>\n",
              "      <td>-0.771440</td>\n",
              "      <td>-0.011684</td>\n",
              "      <td>-0.770682</td>\n",
              "      <td>0.253049</td>\n",
              "      <td>0.706680</td>\n",
              "    </tr>\n",
              "    <tr>\n",
              "      <th>X Coordinate</th>\n",
              "      <td>0.004910</td>\n",
              "      <td>-0.029291</td>\n",
              "      <td>-0.005956</td>\n",
              "      <td>-0.029291</td>\n",
              "      <td>-0.495750</td>\n",
              "      <td>-0.554849</td>\n",
              "      <td>-0.456480</td>\n",
              "      <td>0.262175</td>\n",
              "      <td>1.000000</td>\n",
              "      <td>-0.525243</td>\n",
              "      <td>0.006193</td>\n",
              "      <td>-0.527657</td>\n",
              "      <td>0.999887</td>\n",
              "      <td>0.716496</td>\n",
              "    </tr>\n",
              "    <tr>\n",
              "      <th>Y Coordinate</th>\n",
              "      <td>0.004812</td>\n",
              "      <td>-0.036802</td>\n",
              "      <td>0.082120</td>\n",
              "      <td>-0.036802</td>\n",
              "      <td>0.629685</td>\n",
              "      <td>0.638264</td>\n",
              "      <td>0.642958</td>\n",
              "      <td>-0.771440</td>\n",
              "      <td>-0.525243</td>\n",
              "      <td>1.000000</td>\n",
              "      <td>0.004710</td>\n",
              "      <td>0.999994</td>\n",
              "      <td>-0.516617</td>\n",
              "      <td>-0.969939</td>\n",
              "    </tr>\n",
              "    <tr>\n",
              "      <th>Year</th>\n",
              "      <td>0.988060</td>\n",
              "      <td>-0.047954</td>\n",
              "      <td>0.009154</td>\n",
              "      <td>-0.047954</td>\n",
              "      <td>-0.036903</td>\n",
              "      <td>-0.006592</td>\n",
              "      <td>0.021477</td>\n",
              "      <td>-0.011684</td>\n",
              "      <td>0.006193</td>\n",
              "      <td>0.004710</td>\n",
              "      <td>1.000000</td>\n",
              "      <td>0.004672</td>\n",
              "      <td>0.006334</td>\n",
              "      <td>-0.002070</td>\n",
              "    </tr>\n",
              "    <tr>\n",
              "      <th>Latitude</th>\n",
              "      <td>0.004779</td>\n",
              "      <td>-0.036583</td>\n",
              "      <td>0.081956</td>\n",
              "      <td>-0.036583</td>\n",
              "      <td>0.630190</td>\n",
              "      <td>0.638985</td>\n",
              "      <td>0.643268</td>\n",
              "      <td>-0.770682</td>\n",
              "      <td>-0.527657</td>\n",
              "      <td>0.999994</td>\n",
              "      <td>0.004672</td>\n",
              "      <td>1.000000</td>\n",
              "      <td>-0.519065</td>\n",
              "      <td>-0.970632</td>\n",
              "    </tr>\n",
              "    <tr>\n",
              "      <th>Longitude</th>\n",
              "      <td>0.005042</td>\n",
              "      <td>-0.030100</td>\n",
              "      <td>-0.004707</td>\n",
              "      <td>-0.030100</td>\n",
              "      <td>-0.490946</td>\n",
              "      <td>-0.550505</td>\n",
              "      <td>-0.451108</td>\n",
              "      <td>0.253049</td>\n",
              "      <td>0.999887</td>\n",
              "      <td>-0.516617</td>\n",
              "      <td>0.006334</td>\n",
              "      <td>-0.519065</td>\n",
              "      <td>1.000000</td>\n",
              "      <td>0.709443</td>\n",
              "    </tr>\n",
              "    <tr>\n",
              "      <th>Location</th>\n",
              "      <td>-0.002521</td>\n",
              "      <td>0.021692</td>\n",
              "      <td>-0.068900</td>\n",
              "      <td>0.021692</td>\n",
              "      <td>-0.657795</td>\n",
              "      <td>-0.681810</td>\n",
              "      <td>-0.657366</td>\n",
              "      <td>0.706680</td>\n",
              "      <td>0.716496</td>\n",
              "      <td>-0.969939</td>\n",
              "      <td>-0.002070</td>\n",
              "      <td>-0.970632</td>\n",
              "      <td>0.709443</td>\n",
              "      <td>1.000000</td>\n",
              "    </tr>\n",
              "  </tbody>\n",
              "</table>\n",
              "</div>"
            ],
            "text/plain": [
              "                            ID     Block  ...  Longitude  Location\n",
              "ID                    1.000000 -0.046185  ...   0.005042 -0.002521\n",
              "Block                -0.046185  1.000000  ...  -0.030100  0.021692\n",
              "Primary Type          0.011921  0.105635  ...  -0.004707 -0.068900\n",
              "Location Description -0.046185  1.000000  ...  -0.030100  0.021692\n",
              "Beat                 -0.034640  0.018971  ...  -0.490946 -0.657795\n",
              "District             -0.005252  0.025729  ...  -0.550505 -0.681810\n",
              "Ward                  0.022068  0.003972  ...  -0.451108 -0.657366\n",
              "Community Area       -0.011184  0.019284  ...   0.253049  0.706680\n",
              "X Coordinate          0.004910 -0.029291  ...   0.999887  0.716496\n",
              "Y Coordinate          0.004812 -0.036802  ...  -0.516617 -0.969939\n",
              "Year                  0.988060 -0.047954  ...   0.006334 -0.002070\n",
              "Latitude              0.004779 -0.036583  ...  -0.519065 -0.970632\n",
              "Longitude             0.005042 -0.030100  ...   1.000000  0.709443\n",
              "Location             -0.002521  0.021692  ...   0.709443  1.000000\n",
              "\n",
              "[14 rows x 14 columns]"
            ]
          },
          "metadata": {
            "tags": []
          },
          "execution_count": 29
        }
      ]
    },
    {
      "cell_type": "code",
      "metadata": {
        "colab": {
          "base_uri": "https://localhost:8080/",
          "height": 379
        },
        "id": "6U6HVkAP8yjT",
        "outputId": "92759a73-dc1c-4fd5-9cdc-3ac8d84576dd"
      },
      "source": [
        "sns.heatmap(corelation)"
      ],
      "execution_count": null,
      "outputs": [
        {
          "output_type": "execute_result",
          "data": {
            "text/plain": [
              "<matplotlib.axes._subplots.AxesSubplot at 0x7f596ba42910>"
            ]
          },
          "metadata": {
            "tags": []
          },
          "execution_count": 30
        },
        {
          "output_type": "display_data",
          "data": {
            "image/png": "[encoded data removed]",
            "text/plain": [
              "<Figure size 432x288 with 2 Axes>"
            ]
          },
          "metadata": {
            "tags": [],
            "needs_background": "light"
          }
        }
      ]
    },
    {
      "cell_type": "code",
      "metadata": {
        "id": "qWLOC9fa-VKz"
      },
      "source": [
        "selected_columns = ['Latitude','Longitude','Location Description','Block']"
      ],
      "execution_count": null,
      "outputs": []
    },
    {
      "cell_type": "code",
      "metadata": {
        "id": "NIvJr1OU-5on"
      },
      "source": [
        "from sklearn.model_selection import train_test_split\n",
        "X_train_gs, X_test, y_train_gs, y_test = train_test_split(data[selected_columns], data['Primary Type'], test_size=0.3) # 70% training and 30% test"
      ],
      "execution_count": null,
      "outputs": []
    },
    {
      "cell_type": "code",
      "metadata": {
        "id": "X3Y3GWN1-8wp"
      },
      "source": [
        "knn_5 = KNeighborsClassifier(n_neighbors=5) \n",
        "knn_5.fit(X_train_gs,y_train_gs)\n",
        "pred_train = knn_5.predict(X_train_gs)\n",
        "pred_i = knn_5.predict(X_test)\n",
        "print('Test accuracy ', metrics.accuracy_score(y_train_gs, pred_train))\n",
        "print('Accuracy ', metrics.accuracy_score(y_test, pred_i))\n",
        "print('F1 score ', metrics.f1_score(y_test, pred_i, average = 'weighted'))"
      ],
      "execution_count": null,
      "outputs": []
    },
    {
      "cell_type": "code",
      "metadata": {
        "colab": {
          "base_uri": "https://localhost:8080/"
        },
        "id": "K8svrGHx_Kqq",
        "outputId": "a33857b2-13e9-49cd-c3b9-8e60fb7bb8dc"
      },
      "source": [
        "error_rate = []\n",
        "\n",
        "krange = range(10,50,5)\n",
        "for i in krange:\n",
        " \n",
        " knn = KNeighborsClassifier(n_neighbors=i, metric='manhattan', weights = 'uniform',n_jobs= -1) # haversine - if only lat long\n",
        " knn.fit(X_train_gs,y_train_gs)\n",
        " pred_train = knn.predict(X_train_gs)\n",
        " pred_i = knn.predict(X_test)\n",
        " error_rate.append(np.mean(pred_i != y_test))\n",
        " print('Neighbours ',i)\n",
        " print('Test accuracy ', metrics.accuracy_score(y_train_gs, pred_train))\n",
        " print('Accuracy ', metrics.accuracy_score(y_test, pred_i))\n",
        " print('F1 score ', metrics.f1_score(y_test, pred_i, average = 'weighted'))"
      ],
      "execution_count": null,
      "outputs": [
        {
          "output_type": "stream",
          "text": [
            "Neighbours  10\n",
            "Test accuracy  0.4261851266025163\n",
            "Accuracy  0.31575544148661017\n",
            "F1 score  0.2941260468004382\n",
            "Neighbours  15\n",
            "Test accuracy  0.4051877400843306\n",
            "Accuracy  0.3252755560861088\n",
            "F1 score  0.297131903407923\n",
            "Neighbours  20\n",
            "Test accuracy  0.39243156131023693\n",
            "Accuracy  0.33049818948708765\n",
            "F1 score  0.2971781143829702\n",
            "Neighbours  25\n",
            "Test accuracy  0.3841178752776558\n",
            "Accuracy  0.33255739922804506\n",
            "F1 score  0.29602391227453484\n",
            "Neighbours  30\n",
            "Test accuracy  0.37880137964553856\n",
            "Accuracy  0.33507421113365965\n",
            "F1 score  0.295881072175941\n",
            "Neighbours  35\n",
            "Test accuracy  0.3749856109280205\n",
            "Accuracy  0.33674545382197285\n",
            "F1 score  0.2947977035384238\n",
            "Neighbours  40\n",
            "Test accuracy  0.3711868959254412\n",
            "Accuracy  0.33880466356293026\n",
            "F1 score  0.29511758128931637\n",
            "Neighbours  45\n",
            "Test accuracy  0.3685819409685657\n",
            "Accuracy  0.3402570530420596\n",
            "F1 score  0.2946423316743119\n"
          ],
          "name": "stdout"
        }
      ]
    },
    {
      "cell_type": "code",
      "metadata": {
        "colab": {
          "base_uri": "https://localhost:8080/",
          "height": 421
        },
        "id": "iVhgLtig_XD3",
        "outputId": "9cc86743-0e37-4628-f4b7-cbac24a3711a"
      },
      "source": [
        "plt.figure(figsize=(10,6))\n",
        "\n",
        "plt.plot(krange,error_rate, color= 'blue', linestyle= 'dashed', marker= 'o', markerfacecolor='red', markersize=1)\n",
        "plt.title('Error Rate vs. K Value')\n",
        "plt.xlabel('K')\n",
        "plt.ylabel('Error Rate')"
      ],
      "execution_count": null,
      "outputs": [
        {
          "output_type": "execute_result",
          "data": {
            "text/plain": [
              "Text(0, 0.5, 'Error Rate')"
            ]
          },
          "metadata": {
            "tags": []
          },
          "execution_count": 35
        },
        {
          "output_type": "display_data",
          "data": {
            "image/png": "[encoded data removed]",
            "text/plain": [
              "<Figure size 720x432 with 1 Axes>"
            ]
          },
          "metadata": {
            "tags": [],
            "needs_background": "light"
          }
        }
      ]
    },
    {
      "cell_type": "code",
      "metadata": {
        "id": "izuqPb1x_vOB"
      },
      "source": [
        "from sklearn.model_selection import GridSearchCV, RandomizedSearchCV"
      ],
      "execution_count": null,
      "outputs": []
    },
    {
      "cell_type": "code",
      "metadata": {
        "colab": {
          "base_uri": "https://localhost:8080/"
        },
        "id": "mFh2GHGvAaUN",
        "outputId": "7281f5e2-d9a5-4767-a85d-534f0274068a"
      },
      "source": [
        "KNeighborsClassifier().get_params().keys()"
      ],
      "execution_count": null,
      "outputs": [
        {
          "output_type": "execute_result",
          "data": {
            "text/plain": [
              "dict_keys(['algorithm', 'leaf_size', 'metric', 'metric_params', 'n_jobs', 'n_neighbors', 'p', 'weights'])"
            ]
          },
          "metadata": {
            "tags": []
          },
          "execution_count": 37
        }
      ]
    },
    {
      "cell_type": "code",
      "metadata": {
        "id": "F4qkNjetAcui"
      },
      "source": [
        "grid_params = {\n",
        "    'weights' : ['uniform', 'distance'],\n",
        "    'metric' : ['manhattan','jaccard'] #haversine - if only lat long\n",
        "}"
      ],
      "execution_count": null,
      "outputs": []
    },
    {
      "cell_type": "code",
      "metadata": {
        "id": "hiImOk9AAe9U",
        "colab": {
          "base_uri": "https://localhost:8080/",
          "height": 232
        },
        "outputId": "c96281f0-4d2a-4f25-ef3b-966698ac4c7a"
      },
      "source": [
        "randomSearch = RandomizedSearchCV(\n",
        "    KNeighborsClassifier(25),\n",
        "    grid_params,\n",
        "    verbose = 1,\n",
        "    cv =3,\n",
        "    random_state = 123\n",
        "    )"
      ],
      "execution_count": null,
      "outputs": [
        {
          "output_type": "error",
          "ename": "NameError",
          "evalue": "ignored",
          "traceback": [
            "\u001b[0;31m---------------------------------------------------------------------------\u001b[0m",
            "\u001b[0;31mNameError\u001b[0m                                 Traceback (most recent call last)",
            "\u001b[0;32m<ipython-input-2-ec70f10480fb>\u001b[0m in \u001b[0;36m<module>\u001b[0;34m()\u001b[0m\n\u001b[0;32m----> 1\u001b[0;31m randomSearch = RandomizedSearchCV(\n\u001b[0m\u001b[1;32m      2\u001b[0m     \u001b[0mKNeighborsClassifier\u001b[0m\u001b[0;34m(\u001b[0m\u001b[0;36m25\u001b[0m\u001b[0;34m)\u001b[0m\u001b[0;34m,\u001b[0m\u001b[0;34m\u001b[0m\u001b[0;34m\u001b[0m\u001b[0m\n\u001b[1;32m      3\u001b[0m     \u001b[0mgrid_params\u001b[0m\u001b[0;34m,\u001b[0m\u001b[0;34m\u001b[0m\u001b[0;34m\u001b[0m\u001b[0m\n\u001b[1;32m      4\u001b[0m     \u001b[0mverbose\u001b[0m \u001b[0;34m=\u001b[0m \u001b[0;36m1\u001b[0m\u001b[0;34m,\u001b[0m\u001b[0;34m\u001b[0m\u001b[0;34m\u001b[0m\u001b[0m\n\u001b[1;32m      5\u001b[0m     \u001b[0mcv\u001b[0m \u001b[0;34m=\u001b[0m\u001b[0;36m3\u001b[0m\u001b[0;34m,\u001b[0m\u001b[0;34m\u001b[0m\u001b[0;34m\u001b[0m\u001b[0m\n",
            "\u001b[0;31mNameError\u001b[0m: name 'RandomizedSearchCV' is not defined"
          ]
        }
      ]
    },
    {
      "cell_type": "code",
      "metadata": {
        "colab": {
          "base_uri": "https://localhost:8080/",
          "height": 164
        },
        "id": "gP2gaELXNSQu",
        "outputId": "2cdc3127-564d-4c20-b9c9-20aee9657ed8"
      },
      "source": [
        "rs_results = randomSearch.fit(X_train_gs, y_train_gs)"
      ],
      "execution_count": null,
      "outputs": [
        {
          "output_type": "error",
          "ename": "NameError",
          "evalue": "ignored",
          "traceback": [
            "\u001b[0;31m---------------------------------------------------------------------------\u001b[0m",
            "\u001b[0;31mNameError\u001b[0m                                 Traceback (most recent call last)",
            "\u001b[0;32m<ipython-input-1-f6e1259c5077>\u001b[0m in \u001b[0;36m<module>\u001b[0;34m()\u001b[0m\n\u001b[0;32m----> 1\u001b[0;31m \u001b[0mrs_results\u001b[0m \u001b[0;34m=\u001b[0m \u001b[0mrandomSearch\u001b[0m\u001b[0;34m.\u001b[0m\u001b[0mfit\u001b[0m\u001b[0;34m(\u001b[0m\u001b[0mX_train_gs\u001b[0m\u001b[0;34m,\u001b[0m \u001b[0my_train_gs\u001b[0m\u001b[0;34m)\u001b[0m\u001b[0;34m\u001b[0m\u001b[0;34m\u001b[0m\u001b[0m\n\u001b[0m",
            "\u001b[0;31mNameError\u001b[0m: name 'randomSearch' is not defined"
          ]
        }
      ]
    },
    {
      "cell_type": "code",
      "metadata": {
        "colab": {
          "base_uri": "https://localhost:8080/"
        },
        "id": "GCExdemmAhlR",
        "outputId": "ff0e133e-42a3-4296-d508-74537abe9664"
      },
      "source": [
        "rs_results.best_score_"
      ],
      "execution_count": null,
      "outputs": [
        {
          "output_type": "execute_result",
          "data": {
            "text/plain": [
              "0.3232292128309401"
            ]
          },
          "metadata": {
            "tags": []
          },
          "execution_count": 81
        }
      ]
    },
    {
      "cell_type": "code",
      "metadata": {
        "id": "_2HQxUoCAlpn",
        "colab": {
          "base_uri": "https://localhost:8080/"
        },
        "outputId": "d65dbb96-91e2-48be-b051-d955ea01b36b"
      },
      "source": [
        "rs_results.best_params_"
      ],
      "execution_count": null,
      "outputs": [
        {
          "output_type": "execute_result",
          "data": {
            "text/plain": [
              "{'metric': 'manhattan', 'weights': 'uniform'}"
            ]
          },
          "metadata": {
            "tags": []
          },
          "execution_count": 82
        }
      ]
    },
    {
      "cell_type": "code",
      "metadata": {
        "colab": {
          "base_uri": "https://localhost:8080/"
        },
        "id": "gM3AAZsVQo0Q",
        "outputId": "b2b357b0-1cc2-47ae-d6ae-b7b21fcaf440"
      },
      "source": [
        "from imblearn.over_sampling import SMOTE"
      ],
      "execution_count": null,
      "outputs": [
        {
          "output_type": "stream",
          "text": [
            "/usr/local/lib/python3.7/dist-packages/sklearn/externals/six.py:31: FutureWarning: The module is deprecated in version 0.21 and will be removed in version 0.23 since we've dropped support for Python 2.7. Please rely on the official version of six (https://pypi.org/project/six/).\n",
            "  \"(https://pypi.org/project/six/).\", FutureWarning)\n",
            "/usr/local/lib/python3.7/dist-packages/sklearn/utils/deprecation.py:144: FutureWarning: The sklearn.neighbors.base module is  deprecated in version 0.22 and will be removed in version 0.24. The corresponding classes / functions should instead be imported from sklearn.neighbors. Anything that cannot be imported from sklearn.neighbors is now part of the private API.\n",
            "  warnings.warn(message, FutureWarning)\n"
          ],
          "name": "stderr"
        }
      ]
    },
    {
      "cell_type": "code",
      "metadata": {
        "id": "o9FcQloTQwMT"
      },
      "source": [
        "# Oversample 'Majority'\n",
        "sm = SMOTE('minority', random_state=123)"
      ],
      "execution_count": null,
      "outputs": []
    },
    {
      "cell_type": "code",
      "metadata": {
        "colab": {
          "base_uri": "https://localhost:8080/"
        },
        "id": "KqNx_m8-QyZQ",
        "outputId": "e1d33b62-a28b-445e-8b39-b9274e374c14"
      },
      "source": [
        "X_train_res, y_train_res = SMOTE(k_neighbors=1).fit_resample(X_train, y_train)"
      ],
      "execution_count": null,
      "outputs": [
        {
          "output_type": "stream",
          "text": [
            "/usr/local/lib/python3.7/dist-packages/sklearn/utils/deprecation.py:87: FutureWarning: Function safe_indexing is deprecated; safe_indexing is deprecated in version 0.22 and will be removed in version 0.24.\n",
            "  warnings.warn(msg, category=FutureWarning)\n",
            "/usr/local/lib/python3.7/dist-packages/sklearn/utils/deprecation.py:87: FutureWarning: Function safe_indexing is deprecated; safe_indexing is deprecated in version 0.22 and will be removed in version 0.24.\n",
            "  warnings.warn(msg, category=FutureWarning)\n",
            "/usr/local/lib/python3.7/dist-packages/sklearn/utils/deprecation.py:87: FutureWarning: Function safe_indexing is deprecated; safe_indexing is deprecated in version 0.22 and will be removed in version 0.24.\n",
            "  warnings.warn(msg, category=FutureWarning)\n",
            "/usr/local/lib/python3.7/dist-packages/sklearn/utils/deprecation.py:87: FutureWarning: Function safe_indexing is deprecated; safe_indexing is deprecated in version 0.22 and will be removed in version 0.24.\n",
            "  warnings.warn(msg, category=FutureWarning)\n",
            "/usr/local/lib/python3.7/dist-packages/sklearn/utils/deprecation.py:87: FutureWarning: Function safe_indexing is deprecated; safe_indexing is deprecated in version 0.22 and will be removed in version 0.24.\n",
            "  warnings.warn(msg, category=FutureWarning)\n",
            "/usr/local/lib/python3.7/dist-packages/sklearn/utils/deprecation.py:87: FutureWarning: Function safe_indexing is deprecated; safe_indexing is deprecated in version 0.22 and will be removed in version 0.24.\n",
            "  warnings.warn(msg, category=FutureWarning)\n",
            "/usr/local/lib/python3.7/dist-packages/sklearn/utils/deprecation.py:87: FutureWarning: Function safe_indexing is deprecated; safe_indexing is deprecated in version 0.22 and will be removed in version 0.24.\n",
            "  warnings.warn(msg, category=FutureWarning)\n",
            "/usr/local/lib/python3.7/dist-packages/sklearn/utils/deprecation.py:87: FutureWarning: Function safe_indexing is deprecated; safe_indexing is deprecated in version 0.22 and will be removed in version 0.24.\n",
            "  warnings.warn(msg, category=FutureWarning)\n",
            "/usr/local/lib/python3.7/dist-packages/sklearn/utils/deprecation.py:87: FutureWarning: Function safe_indexing is deprecated; safe_indexing is deprecated in version 0.22 and will be removed in version 0.24.\n",
            "  warnings.warn(msg, category=FutureWarning)\n",
            "/usr/local/lib/python3.7/dist-packages/sklearn/utils/deprecation.py:87: FutureWarning: Function safe_indexing is deprecated; safe_indexing is deprecated in version 0.22 and will be removed in version 0.24.\n",
            "  warnings.warn(msg, category=FutureWarning)\n",
            "/usr/local/lib/python3.7/dist-packages/sklearn/utils/deprecation.py:87: FutureWarning: Function safe_indexing is deprecated; safe_indexing is deprecated in version 0.22 and will be removed in version 0.24.\n",
            "  warnings.warn(msg, category=FutureWarning)\n",
            "/usr/local/lib/python3.7/dist-packages/sklearn/utils/deprecation.py:87: FutureWarning: Function safe_indexing is deprecated; safe_indexing is deprecated in version 0.22 and will be removed in version 0.24.\n",
            "  warnings.warn(msg, category=FutureWarning)\n",
            "/usr/local/lib/python3.7/dist-packages/sklearn/utils/deprecation.py:87: FutureWarning: Function safe_indexing is deprecated; safe_indexing is deprecated in version 0.22 and will be removed in version 0.24.\n",
            "  warnings.warn(msg, category=FutureWarning)\n",
            "/usr/local/lib/python3.7/dist-packages/sklearn/utils/deprecation.py:87: FutureWarning: Function safe_indexing is deprecated; safe_indexing is deprecated in version 0.22 and will be removed in version 0.24.\n",
            "  warnings.warn(msg, category=FutureWarning)\n",
            "/usr/local/lib/python3.7/dist-packages/sklearn/utils/deprecation.py:87: FutureWarning: Function safe_indexing is deprecated; safe_indexing is deprecated in version 0.22 and will be removed in version 0.24.\n",
            "  warnings.warn(msg, category=FutureWarning)\n",
            "/usr/local/lib/python3.7/dist-packages/sklearn/utils/deprecation.py:87: FutureWarning: Function safe_indexing is deprecated; safe_indexing is deprecated in version 0.22 and will be removed in version 0.24.\n",
            "  warnings.warn(msg, category=FutureWarning)\n",
            "/usr/local/lib/python3.7/dist-packages/sklearn/utils/deprecation.py:87: FutureWarning: Function safe_indexing is deprecated; safe_indexing is deprecated in version 0.22 and will be removed in version 0.24.\n",
            "  warnings.warn(msg, category=FutureWarning)\n",
            "/usr/local/lib/python3.7/dist-packages/sklearn/utils/deprecation.py:87: FutureWarning: Function safe_indexing is deprecated; safe_indexing is deprecated in version 0.22 and will be removed in version 0.24.\n",
            "  warnings.warn(msg, category=FutureWarning)\n",
            "/usr/local/lib/python3.7/dist-packages/sklearn/utils/deprecation.py:87: FutureWarning: Function safe_indexing is deprecated; safe_indexing is deprecated in version 0.22 and will be removed in version 0.24.\n",
            "  warnings.warn(msg, category=FutureWarning)\n",
            "/usr/local/lib/python3.7/dist-packages/sklearn/utils/deprecation.py:87: FutureWarning: Function safe_indexing is deprecated; safe_indexing is deprecated in version 0.22 and will be removed in version 0.24.\n",
            "  warnings.warn(msg, category=FutureWarning)\n",
            "/usr/local/lib/python3.7/dist-packages/sklearn/utils/deprecation.py:87: FutureWarning: Function safe_indexing is deprecated; safe_indexing is deprecated in version 0.22 and will be removed in version 0.24.\n",
            "  warnings.warn(msg, category=FutureWarning)\n",
            "/usr/local/lib/python3.7/dist-packages/sklearn/utils/deprecation.py:87: FutureWarning: Function safe_indexing is deprecated; safe_indexing is deprecated in version 0.22 and will be removed in version 0.24.\n",
            "  warnings.warn(msg, category=FutureWarning)\n",
            "/usr/local/lib/python3.7/dist-packages/sklearn/utils/deprecation.py:87: FutureWarning: Function safe_indexing is deprecated; safe_indexing is deprecated in version 0.22 and will be removed in version 0.24.\n",
            "  warnings.warn(msg, category=FutureWarning)\n",
            "/usr/local/lib/python3.7/dist-packages/sklearn/utils/deprecation.py:87: FutureWarning: Function safe_indexing is deprecated; safe_indexing is deprecated in version 0.22 and will be removed in version 0.24.\n",
            "  warnings.warn(msg, category=FutureWarning)\n",
            "/usr/local/lib/python3.7/dist-packages/sklearn/utils/deprecation.py:87: FutureWarning: Function safe_indexing is deprecated; safe_indexing is deprecated in version 0.22 and will be removed in version 0.24.\n",
            "  warnings.warn(msg, category=FutureWarning)\n",
            "/usr/local/lib/python3.7/dist-packages/sklearn/utils/deprecation.py:87: FutureWarning: Function safe_indexing is deprecated; safe_indexing is deprecated in version 0.22 and will be removed in version 0.24.\n",
            "  warnings.warn(msg, category=FutureWarning)\n",
            "/usr/local/lib/python3.7/dist-packages/sklearn/utils/deprecation.py:87: FutureWarning: Function safe_indexing is deprecated; safe_indexing is deprecated in version 0.22 and will be removed in version 0.24.\n",
            "  warnings.warn(msg, category=FutureWarning)\n",
            "/usr/local/lib/python3.7/dist-packages/sklearn/utils/deprecation.py:87: FutureWarning: Function safe_indexing is deprecated; safe_indexing is deprecated in version 0.22 and will be removed in version 0.24.\n",
            "  warnings.warn(msg, category=FutureWarning)\n",
            "/usr/local/lib/python3.7/dist-packages/sklearn/utils/deprecation.py:87: FutureWarning: Function safe_indexing is deprecated; safe_indexing is deprecated in version 0.22 and will be removed in version 0.24.\n",
            "  warnings.warn(msg, category=FutureWarning)\n",
            "/usr/local/lib/python3.7/dist-packages/sklearn/utils/deprecation.py:87: FutureWarning: Function safe_indexing is deprecated; safe_indexing is deprecated in version 0.22 and will be removed in version 0.24.\n",
            "  warnings.warn(msg, category=FutureWarning)\n",
            "/usr/local/lib/python3.7/dist-packages/sklearn/utils/deprecation.py:87: FutureWarning: Function safe_indexing is deprecated; safe_indexing is deprecated in version 0.22 and will be removed in version 0.24.\n",
            "  warnings.warn(msg, category=FutureWarning)\n",
            "/usr/local/lib/python3.7/dist-packages/sklearn/utils/deprecation.py:87: FutureWarning: Function safe_indexing is deprecated; safe_indexing is deprecated in version 0.22 and will be removed in version 0.24.\n",
            "  warnings.warn(msg, category=FutureWarning)\n"
          ],
          "name": "stderr"
        }
      ]
    },
    {
      "cell_type": "code",
      "metadata": {
        "id": "bUxUummvQ1ec"
      },
      "source": [
        "#convert back to Dataframe\n",
        "X_train_updated = pd.DataFrame(X_train_res, columns= selected_columns)\n",
        "y_train_updated = pd.Series(y_train_res)"
      ],
      "execution_count": null,
      "outputs": []
    },
    {
      "cell_type": "code",
      "metadata": {
        "colab": {
          "base_uri": "https://localhost:8080/"
        },
        "id": "RkAb-AeBgYAd",
        "outputId": "5cce0d22-abe9-4ab0-b74f-9c01ff88ecd6"
      },
      "source": [
        "target_counts = y_train_updated.value_counts()\n",
        "target_counts"
      ],
      "execution_count": null,
      "outputs": [
        {
          "output_type": "execute_result",
          "data": {
            "text/plain": [
              "33    20573\n",
              "15    20573\n",
              "1     20573\n",
              "2     20573\n",
              "3     20573\n",
              "4     20573\n",
              "5     20573\n",
              "6     20573\n",
              "7     20573\n",
              "8     20573\n",
              "9     20573\n",
              "10    20573\n",
              "11    20573\n",
              "12    20573\n",
              "13    20573\n",
              "14    20573\n",
              "16    20573\n",
              "32    20573\n",
              "17    20573\n",
              "18    20573\n",
              "19    20573\n",
              "20    20573\n",
              "22    20573\n",
              "23    20573\n",
              "24    20573\n",
              "25    20573\n",
              "26    20573\n",
              "27    20573\n",
              "28    20573\n",
              "29    20573\n",
              "30    20573\n",
              "31    20573\n",
              "0     20573\n",
              "dtype: int64"
            ]
          },
          "metadata": {
            "tags": []
          },
          "execution_count": 98
        }
      ]
    },
    {
      "cell_type": "code",
      "metadata": {
        "id": "F2PW6mZjgaLn"
      },
      "source": [
        "knn = KNeighborsClassifier(n_neighbors=25, metric='manhattan', weights = 'uniform')"
      ],
      "execution_count": null,
      "outputs": []
    },
    {
      "cell_type": "code",
      "metadata": {
        "colab": {
          "base_uri": "https://localhost:8080/"
        },
        "id": "wrC10GhWgd1o",
        "outputId": "ae26ef81-94bb-4fcd-f50f-f90ce928c6ee"
      },
      "source": [
        "knn.fit(X_train_updated,y_train_updated)"
      ],
      "execution_count": null,
      "outputs": [
        {
          "output_type": "execute_result",
          "data": {
            "text/plain": [
              "KNeighborsClassifier(algorithm='auto', leaf_size=30, metric='manhattan',\n",
              "                     metric_params=None, n_jobs=None, n_neighbors=25, p=2,\n",
              "                     weights='uniform')"
            ]
          },
          "metadata": {
            "tags": []
          },
          "execution_count": 100
        }
      ]
    },
    {
      "cell_type": "code",
      "metadata": {
        "id": "ouN7mJhmggHj"
      },
      "source": [
        "pred_i = knn.predict(X_test)"
      ],
      "execution_count": null,
      "outputs": []
    },
    {
      "cell_type": "code",
      "metadata": {
        "colab": {
          "base_uri": "https://localhost:8080/"
        },
        "id": "S_AZZEfeg1xj",
        "outputId": "01247004-6577-49c4-edbd-79295ab281cd"
      },
      "source": [
        "print('Accuracy ', metrics.accuracy_score(y_test, pred_i))\n",
        "print('F1 score ', metrics.f1_score(y_test, pred_i, average = 'weighted'))"
      ],
      "execution_count": null,
      "outputs": [
        {
          "output_type": "stream",
          "text": [
            "Accuracy  0.03564631448999537\n",
            "F1 score  0.0396860010014847\n"
          ],
          "name": "stdout"
        }
      ]
    },
    {
      "cell_type": "code",
      "metadata": {
        "id": "FD7Fw0h3g4-f"
      },
      "source": [
        "from imblearn.under_sampling import ClusterCentroids"
      ],
      "execution_count": null,
      "outputs": []
    },
    {
      "cell_type": "code",
      "metadata": {
        "id": "jruNO8F_hFwr"
      },
      "source": [
        "# Undersample 'Majority'\n",
        "cc = ClusterCentroids(sampling_strategy = 'majority')"
      ],
      "execution_count": null,
      "outputs": []
    },
    {
      "cell_type": "code",
      "metadata": {
        "colab": {
          "base_uri": "https://localhost:8080/"
        },
        "id": "r0703EA-hPra",
        "outputId": "ee479eb1-9561-4780-e665-36189ac1c40e"
      },
      "source": [
        "X_cc, y_cc = cc.fit_sample(X_train, y_train)"
      ],
      "execution_count": null,
      "outputs": [
        {
          "output_type": "stream",
          "text": [
            "/usr/local/lib/python3.7/dist-packages/sklearn/utils/deprecation.py:87: FutureWarning: Function safe_indexing is deprecated; safe_indexing is deprecated in version 0.22 and will be removed in version 0.24.\n",
            "  warnings.warn(msg, category=FutureWarning)\n",
            "/usr/local/lib/python3.7/dist-packages/sklearn/utils/deprecation.py:87: FutureWarning: Function safe_indexing is deprecated; safe_indexing is deprecated in version 0.22 and will be removed in version 0.24.\n",
            "  warnings.warn(msg, category=FutureWarning)\n"
          ],
          "name": "stderr"
        }
      ]
    },
    {
      "cell_type": "code",
      "metadata": {
        "id": "QE2zw914hRoN"
      },
      "source": [
        "#convert back to Dataframe\n",
        "X_train_updated = pd.DataFrame(X_cc, columns= selected_columns)\n",
        "y_train_updated = pd.Series(y_cc)"
      ],
      "execution_count": null,
      "outputs": []
    },
    {
      "cell_type": "code",
      "metadata": {
        "colab": {
          "base_uri": "https://localhost:8080/"
        },
        "id": "6FAKLnG3hUi9",
        "outputId": "be695559-b0f7-4bc8-e446-a4f9a87e5bcf"
      },
      "source": [
        "target_counts = y_train_updated.value_counts()\n",
        "target_counts"
      ],
      "execution_count": null,
      "outputs": [
        {
          "output_type": "execute_result",
          "data": {
            "text/plain": [
              "2     16728\n",
              "6     10437\n",
              "18     6497\n",
              "25     5971\n",
              "1      5659\n",
              "9      5361\n",
              "3      5136\n",
              "29     3852\n",
              "17     3623\n",
              "8      2041\n",
              "33     1105\n",
              "28      753\n",
              "23      712\n",
              "5       522\n",
              "13      422\n",
              "26      365\n",
              "30      351\n",
              "0       165\n",
              "10      102\n",
              "16       87\n",
              "15       79\n",
              "31       51\n",
              "14       45\n",
              "11       20\n",
              "22       19\n",
              "4        10\n",
              "7         9\n",
              "12        8\n",
              "20        7\n",
              "19        5\n",
              "27        5\n",
              "32        2\n",
              "24        2\n",
              "dtype: int64"
            ]
          },
          "metadata": {
            "tags": []
          },
          "execution_count": 107
        }
      ]
    },
    {
      "cell_type": "code",
      "metadata": {
        "id": "hN-Gk_vOhWtv"
      },
      "source": [
        "knn = KNeighborsClassifier(n_neighbors=25, metric='manhattan', weights = 'uniform')"
      ],
      "execution_count": null,
      "outputs": []
    },
    {
      "cell_type": "code",
      "metadata": {
        "colab": {
          "base_uri": "https://localhost:8080/"
        },
        "id": "Uo0eU_3UhZy2",
        "outputId": "fb8f60d8-8f00-450b-fb9b-e695d450fb97"
      },
      "source": [
        "knn.fit(X_train_updated,y_train_updated)"
      ],
      "execution_count": null,
      "outputs": [
        {
          "output_type": "execute_result",
          "data": {
            "text/plain": [
              "KNeighborsClassifier(algorithm='auto', leaf_size=30, metric='manhattan',\n",
              "                     metric_params=None, n_jobs=None, n_neighbors=25, p=2,\n",
              "                     weights='uniform')"
            ]
          },
          "metadata": {
            "tags": []
          },
          "execution_count": 110
        }
      ]
    },
    {
      "cell_type": "code",
      "metadata": {
        "id": "3nYzaTD-hfg_"
      },
      "source": [
        "pred_i = knn.predict(X_test)"
      ],
      "execution_count": null,
      "outputs": []
    },
    {
      "cell_type": "code",
      "metadata": {
        "colab": {
          "base_uri": "https://localhost:8080/"
        },
        "id": "3_59mhcUhhz_",
        "outputId": "20154cf2-276d-4400-e0ec-d1628d08c204"
      },
      "source": [
        "print('Accuracy ', metrics.accuracy_score(y_test, pred_i))\n",
        "print('F1 score ', metrics.f1_score(y_test, pred_i, average = 'weighted'))"
      ],
      "execution_count": null,
      "outputs": [
        {
          "output_type": "stream",
          "text": [
            "Accuracy  0.15475027004783704\n",
            "F1 score  0.07797144572431025\n"
          ],
          "name": "stdout"
        }
      ]
    },
    {
      "cell_type": "code",
      "metadata": {
        "id": "P4IXL567hkjz"
      },
      "source": [
        "from imblearn.over_sampling import RandomOverSampler\n",
        "from imblearn.under_sampling import RandomUnderSampler"
      ],
      "execution_count": null,
      "outputs": []
    },
    {
      "cell_type": "code",
      "metadata": {
        "id": "fAaR5bXFhuoP"
      },
      "source": [
        "# define oversampling strategy\n",
        "over = RandomOverSampler(sampling_strategy= 'minority')"
      ],
      "execution_count": null,
      "outputs": []
    },
    {
      "cell_type": "code",
      "metadata": {
        "colab": {
          "base_uri": "https://localhost:8080/"
        },
        "id": "zLI8xgp3hwtw",
        "outputId": "303640e6-dc64-4c96-fdb9-f2b54bccf632"
      },
      "source": [
        "# fit and apply the transform\n",
        "X_random, y_random = over.fit_resample(X_train, y_train)"
      ],
      "execution_count": null,
      "outputs": [
        {
          "output_type": "stream",
          "text": [
            "/usr/local/lib/python3.7/dist-packages/sklearn/utils/deprecation.py:87: FutureWarning: Function safe_indexing is deprecated; safe_indexing is deprecated in version 0.22 and will be removed in version 0.24.\n",
            "  warnings.warn(msg, category=FutureWarning)\n"
          ],
          "name": "stderr"
        }
      ]
    },
    {
      "cell_type": "code",
      "metadata": {
        "id": "F_SM7rCohy-Z"
      },
      "source": [
        "#convert back to Dataframe\n",
        "X_train_updated = pd.DataFrame(X_random, columns= selected_columns)\n",
        "y_train_updated = pd.Series(y_random)"
      ],
      "execution_count": null,
      "outputs": []
    },
    {
      "cell_type": "code",
      "metadata": {
        "colab": {
          "base_uri": "https://localhost:8080/"
        },
        "id": "7k0Ng_FDh1o2",
        "outputId": "f0780763-4f43-4b01-a916-ceda4efcd058"
      },
      "source": [
        "target_counts_random = y_train_updated.value_counts()\n",
        "target_counts_random"
      ],
      "execution_count": null,
      "outputs": [
        {
          "output_type": "execute_result",
          "data": {
            "text/plain": [
              "24    20573\n",
              "32    20573\n",
              "2     16728\n",
              "6     10437\n",
              "18     6497\n",
              "25     5971\n",
              "1      5659\n",
              "9      5361\n",
              "3      5136\n",
              "29     3852\n",
              "17     3623\n",
              "8      2041\n",
              "33     1105\n",
              "28      753\n",
              "23      712\n",
              "5       522\n",
              "13      422\n",
              "26      365\n",
              "30      351\n",
              "0       165\n",
              "10      102\n",
              "16       87\n",
              "15       79\n",
              "31       51\n",
              "14       45\n",
              "11       20\n",
              "22       19\n",
              "4        10\n",
              "7         9\n",
              "12        8\n",
              "20        7\n",
              "19        5\n",
              "27        5\n",
              "dtype: int64"
            ]
          },
          "metadata": {
            "tags": []
          },
          "execution_count": 117
        }
      ]
    },
    {
      "cell_type": "code",
      "metadata": {
        "id": "ZwAEliQzh3cK"
      },
      "source": [
        "knn = KNeighborsClassifier(n_neighbors=25, metric='manhattan', weights = 'uniform')"
      ],
      "execution_count": null,
      "outputs": []
    },
    {
      "cell_type": "code",
      "metadata": {
        "colab": {
          "base_uri": "https://localhost:8080/"
        },
        "id": "Ps41QYVCh68l",
        "outputId": "f29b8997-b442-4c0c-d78b-56bae3cbb33a"
      },
      "source": [
        "knn.fit(X_train_updated,y_train_updated)"
      ],
      "execution_count": null,
      "outputs": [
        {
          "output_type": "execute_result",
          "data": {
            "text/plain": [
              "KNeighborsClassifier(algorithm='auto', leaf_size=30, metric='manhattan',\n",
              "                     metric_params=None, n_jobs=None, n_neighbors=25, p=2,\n",
              "                     weights='uniform')"
            ]
          },
          "metadata": {
            "tags": []
          },
          "execution_count": 119
        }
      ]
    },
    {
      "cell_type": "code",
      "metadata": {
        "id": "7kxEYbmEh9Ti"
      },
      "source": [
        "pred_i = knn.predict(X_test)"
      ],
      "execution_count": null,
      "outputs": []
    },
    {
      "cell_type": "code",
      "metadata": {
        "colab": {
          "base_uri": "https://localhost:8080/"
        },
        "id": "yBqPsAGyiAaO",
        "outputId": "b8c1f792-30e3-4d21-bf53-c099ddc65ac5"
      },
      "source": [
        "print('Accuracy ', metrics.accuracy_score(y_test, pred_i))\n",
        "print('F1 score ', metrics.f1_score(y_test, pred_i, average = 'weighted'))"
      ],
      "execution_count": null,
      "outputs": [
        {
          "output_type": "stream",
          "text": [
            "Accuracy  0.19371431510724757\n",
            "F1 score  0.13350749232971157\n"
          ],
          "name": "stdout"
        }
      ]
    },
    {
      "cell_type": "code",
      "metadata": {
        "id": "StDEin4iiDLJ"
      },
      "source": [
        "# define undersampling strategy\n",
        "under = RandomUnderSampler(sampling_strategy= 'majority')"
      ],
      "execution_count": null,
      "outputs": []
    },
    {
      "cell_type": "code",
      "metadata": {
        "colab": {
          "base_uri": "https://localhost:8080/"
        },
        "id": "DFXVFZKBiG0P",
        "outputId": "85d2603b-5956-429a-a68c-a29da10037fc"
      },
      "source": [
        "# fit and apply the transform\n",
        "X_train_updated, y_train_updated = under.fit_resample(X_train, y_train)"
      ],
      "execution_count": null,
      "outputs": [
        {
          "output_type": "stream",
          "text": [
            "/usr/local/lib/python3.7/dist-packages/sklearn/utils/deprecation.py:87: FutureWarning: Function safe_indexing is deprecated; safe_indexing is deprecated in version 0.22 and will be removed in version 0.24.\n",
            "  warnings.warn(msg, category=FutureWarning)\n"
          ],
          "name": "stderr"
        }
      ]
    },
    {
      "cell_type": "code",
      "metadata": {
        "colab": {
          "base_uri": "https://localhost:8080/"
        },
        "id": "O9WSrnRYiM_4",
        "outputId": "819e28a2-1f89-4899-dcd8-b01ffe560d60"
      },
      "source": [
        "y_train_updated = pd.Series(y_train_updated)\n",
        "target_counts_random = y_train.value_counts()\n",
        "target_counts_random"
      ],
      "execution_count": null,
      "outputs": [
        {
          "output_type": "execute_result",
          "data": {
            "text/plain": [
              "32    20573\n",
              "2     16728\n",
              "6     10437\n",
              "18     6497\n",
              "25     5971\n",
              "1      5659\n",
              "9      5361\n",
              "3      5136\n",
              "29     3852\n",
              "17     3623\n",
              "8      2041\n",
              "33     1105\n",
              "28      753\n",
              "23      712\n",
              "5       522\n",
              "13      422\n",
              "26      365\n",
              "30      351\n",
              "0       165\n",
              "10      102\n",
              "16       87\n",
              "15       79\n",
              "31       51\n",
              "14       45\n",
              "11       20\n",
              "22       19\n",
              "4        10\n",
              "7         9\n",
              "12        8\n",
              "20        7\n",
              "19        5\n",
              "27        5\n",
              "24        2\n",
              "Name: Primary Type, dtype: int64"
            ]
          },
          "metadata": {
            "tags": []
          },
          "execution_count": 124
        }
      ]
    },
    {
      "cell_type": "code",
      "metadata": {
        "id": "rlZNdccQiPVz"
      },
      "source": [
        "knn = KNeighborsClassifier(n_neighbors=25, metric='manhattan', weights = 'uniform')"
      ],
      "execution_count": null,
      "outputs": []
    },
    {
      "cell_type": "code",
      "metadata": {
        "colab": {
          "base_uri": "https://localhost:8080/"
        },
        "id": "RPfaGrmbiSy7",
        "outputId": "3a083660-ad1d-4b95-cba2-d0335cb461d0"
      },
      "source": [
        "knn.fit(X_train_updated,y_train_updated)"
      ],
      "execution_count": null,
      "outputs": [
        {
          "output_type": "execute_result",
          "data": {
            "text/plain": [
              "KNeighborsClassifier(algorithm='auto', leaf_size=30, metric='manhattan',\n",
              "                     metric_params=None, n_jobs=None, n_neighbors=25, p=2,\n",
              "                     weights='uniform')"
            ]
          },
          "metadata": {
            "tags": []
          },
          "execution_count": 126
        }
      ]
    },
    {
      "cell_type": "code",
      "metadata": {
        "id": "EWiTLvetiVYP"
      },
      "source": [
        "pred_i = knn.predict(X_test)"
      ],
      "execution_count": null,
      "outputs": []
    },
    {
      "cell_type": "code",
      "metadata": {
        "colab": {
          "base_uri": "https://localhost:8080/"
        },
        "id": "M1-ygUseiXeX",
        "outputId": "9643c960-c9c6-4af6-83ed-515448acf1e8"
      },
      "source": [
        "print('Accuracy ', metrics.accuracy_score(y_test, pred_i))\n",
        "print('F1 score ', metrics.f1_score(y_test, pred_i, average = 'weighted'))"
      ],
      "execution_count": null,
      "outputs": [
        {
          "output_type": "stream",
          "text": [
            "Accuracy  0.15482742657270718\n",
            "F1 score  0.07805677049616844\n"
          ],
          "name": "stdout"
        }
      ]
    },
    {
      "cell_type": "code",
      "metadata": {
        "id": "5Wb__zJdiapT"
      },
      "source": [
        "from sklearn.ensemble import VotingClassifier\n",
        "from sklearn.ensemble import RandomForestClassifier\n",
        "from sklearn.svm import SVC\n",
        "from sklearn.linear_model import LogisticRegression"
      ],
      "execution_count": null,
      "outputs": []
    },
    {
      "cell_type": "code",
      "metadata": {
        "id": "xytpwkg9imRQ"
      },
      "source": [
        "#KNN with - 25 neighbours\n",
        "knn = KNeighborsClassifier(25, metric='manhattan', weights = 'uniform',n_jobs= -1)\n",
        "\n",
        "#random forest with 75 Decision Trees\n",
        "rf = RandomForestClassifier(10, max_depth = 10, n_jobs= -1)\n",
        "\n",
        "#Support Vector Classifier\n",
        "svm = SVC(kernel = 'linear', random_state = 123, probability=True)"
      ],
      "execution_count": null,
      "outputs": []
    },
    {
      "cell_type": "code",
      "metadata": {
        "colab": {
          "base_uri": "https://localhost:8080/"
        },
        "id": "vELO6ORkioTG",
        "outputId": "ca9541db-009a-4112-ecdf-43b8be6300a2"
      },
      "source": [
        "# can using previopusly trained KNN as well\n",
        "knn.fit(X_train,y_train)"
      ],
      "execution_count": null,
      "outputs": [
        {
          "output_type": "execute_result",
          "data": {
            "text/plain": [
              "KNeighborsClassifier(algorithm='auto', leaf_size=30, metric='manhattan',\n",
              "                     metric_params=None, n_jobs=-1, n_neighbors=25, p=2,\n",
              "                     weights='uniform')"
            ]
          },
          "metadata": {
            "tags": []
          },
          "execution_count": 132
        }
      ]
    },
    {
      "cell_type": "code",
      "metadata": {
        "colab": {
          "base_uri": "https://localhost:8080/"
        },
        "id": "MCWB7mNciqfa",
        "outputId": "331c3ea8-4f3b-4b9b-90fc-41cac99ea23e"
      },
      "source": [
        "rf.fit(X_train,y_train)"
      ],
      "execution_count": null,
      "outputs": [
        {
          "output_type": "execute_result",
          "data": {
            "text/plain": [
              "RandomForestClassifier(bootstrap=True, ccp_alpha=0.0, class_weight=None,\n",
              "                       criterion='gini', max_depth=10, max_features='auto',\n",
              "                       max_leaf_nodes=None, max_samples=None,\n",
              "                       min_impurity_decrease=0.0, min_impurity_split=None,\n",
              "                       min_samples_leaf=1, min_samples_split=2,\n",
              "                       min_weight_fraction_leaf=0.0, n_estimators=10, n_jobs=-1,\n",
              "                       oob_score=False, random_state=None, verbose=0,\n",
              "                       warm_start=False)"
            ]
          },
          "metadata": {
            "tags": []
          },
          "execution_count": 133
        }
      ]
    },
    {
      "cell_type": "code",
      "metadata": {
        "colab": {
          "base_uri": "https://localhost:8080/"
        },
        "id": "QkV1amqCix0I",
        "outputId": "8abae36f-750a-42c1-cffa-1fa53e3efe71"
      },
      "source": [
        "rf.score(X_test, y_test)"
      ],
      "execution_count": null,
      "outputs": [
        {
          "output_type": "execute_result",
          "data": {
            "text/plain": [
              "0.22748315415873668"
            ]
          },
          "metadata": {
            "tags": []
          },
          "execution_count": 134
        }
      ]
    },
    {
      "cell_type": "code",
      "metadata": {
        "colab": {
          "base_uri": "https://localhost:8080/",
          "height": 164
        },
        "id": "IgIRDodVi0iz",
        "outputId": "8a7e27ec-ebf0-4dc9-e32a-4d026be58eae"
      },
      "source": [
        "svm.fit(X_train, y_train)"
      ],
      "execution_count": null,
      "outputs": [
        {
          "output_type": "error",
          "ename": "NameError",
          "evalue": "ignored",
          "traceback": [
            "\u001b[0;31m---------------------------------------------------------------------------\u001b[0m",
            "\u001b[0;31mNameError\u001b[0m                                 Traceback (most recent call last)",
            "\u001b[0;32m<ipython-input-1-53d972eb9c2b>\u001b[0m in \u001b[0;36m<module>\u001b[0;34m()\u001b[0m\n\u001b[0;32m----> 1\u001b[0;31m \u001b[0msvm\u001b[0m\u001b[0;34m.\u001b[0m\u001b[0mfit\u001b[0m\u001b[0;34m(\u001b[0m\u001b[0mX_train\u001b[0m\u001b[0;34m,\u001b[0m \u001b[0my_train\u001b[0m\u001b[0;34m)\u001b[0m\u001b[0;34m\u001b[0m\u001b[0;34m\u001b[0m\u001b[0m\n\u001b[0m",
            "\u001b[0;31mNameError\u001b[0m: name 'svm' is not defined"
          ]
        }
      ]
    },
    {
      "cell_type": "code",
      "metadata": {
        "id": "5jzPdSzOi3B8"
      },
      "source": [
        "svm.score(X_test, y_test)"
      ],
      "execution_count": null,
      "outputs": []
    },
    {
      "cell_type": "code",
      "metadata": {
        "id": "aYdadhgFmhOV"
      },
      "source": [
        "#create a dictionary of our models\n",
        "estimators=[('knn', knn), ('rf', rf), ('svm', svm)]\n",
        "#create our voting classifier, inputting our models\n",
        "ensemble = VotingClassifier(estimators, voting='hard')"
      ],
      "execution_count": null,
      "outputs": []
    },
    {
      "cell_type": "code",
      "metadata": {
        "id": "aG22nGUdmjNO"
      },
      "source": [
        "#fit model to training data\n",
        "ensemble.fit(X_train, y_train)\n",
        "#test our model on the test data\n",
        "ensemble.score(X_test, y_test)"
      ],
      "execution_count": null,
      "outputs": []
    }
  ]
}